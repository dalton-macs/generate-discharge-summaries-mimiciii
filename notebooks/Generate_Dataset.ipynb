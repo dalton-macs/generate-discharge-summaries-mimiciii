{
 "cells": [
  {
   "cell_type": "markdown",
   "id": "f865b284-119a-4bd0-a083-603d87946c06",
   "metadata": {},
   "source": [
    "# Notebook to generate the dataset and push to HuggingFace hub\n",
    "#### What we need to do for data prep on target:\n",
    "1. Only get notes on subjects that have a discharge summary\n",
    "2. Further filter to only get hadm_ids/subjects that have a single discharge summary report (some can be addendums, we will ignore those notes)\n",
    "3. Drop addendums\n",
    "4. Find headers\n",
    "5. Get target text (\"BRIEF HOSPITAL COURSE\" or \"HOSPITAL COURSE\")\n",
    "6. Drop subjects/hadm_ids that do not have this section or have them both (why would they have both? only 34 samples so just drop)\n"
   ]
  },
  {
   "cell_type": "code",
   "execution_count": 1,
   "id": "be9bdea9-b0d8-49be-bb64-f52d7cbbdf4a",
   "metadata": {},
   "outputs": [
    {
     "name": "stderr",
     "output_type": "stream",
     "text": [
      "/home/dmacres/anaconda3/envs/gendis/lib/python3.11/site-packages/tqdm/auto.py:21: TqdmWarning: IProgress not found. Please update jupyter and ipywidgets. See https://ipywidgets.readthedocs.io/en/stable/user_install.html\n",
      "  from .autonotebook import tqdm as notebook_tqdm\n"
     ]
    }
   ],
   "source": [
    "import pandas as pd\n",
    "import numpy as np\n",
    "from datasets import Dataset, load_dataset\n",
    "import os\n",
    "from src.helpers import get_discharge_headers, get_target_text\n",
    "from src.query_athena import QueryAthena"
   ]
  },
  {
   "cell_type": "markdown",
   "id": "2cbbc6c3-ec33-4bc9-9db0-7bae7401be87",
   "metadata": {},
   "source": [
    "## Get NoteEvents Table"
   ]
  },
  {
   "cell_type": "code",
   "execution_count": 2,
   "id": "1c65a8d9-e2f9-4a52-86b5-d8255129b044",
   "metadata": {},
   "outputs": [],
   "source": [
    "athena = QueryAthena()"
   ]
  },
  {
   "cell_type": "code",
   "execution_count": 3,
   "id": "48d0414e-fe46-480f-8865-263869f68166",
   "metadata": {},
   "outputs": [
    {
     "name": "stdout",
     "output_type": "stream",
     "text": [
      "Execution ID: d01a8a84-fe2b-48c9-baf9-5831e469e828\n",
      "QUEUED\n"
     ]
    },
    {
     "ename": "KeyboardInterrupt",
     "evalue": "",
     "output_type": "error",
     "traceback": [
      "\u001b[0;31m---------------------------------------------------------------------------\u001b[0m",
      "\u001b[0;31mKeyboardInterrupt\u001b[0m                         Traceback (most recent call last)",
      "Cell \u001b[0;32mIn[3], line 2\u001b[0m\n\u001b[1;32m      1\u001b[0m query \u001b[38;5;241m=\u001b[39m \u001b[38;5;124m\"\u001b[39m\u001b[38;5;124mselect * from noteevents\u001b[39m\u001b[38;5;124m\"\u001b[39m\n\u001b[0;32m----> 2\u001b[0m noteevents \u001b[38;5;241m=\u001b[39m \u001b[43mathena\u001b[49m\u001b[38;5;241;43m.\u001b[39;49m\u001b[43mrun_query\u001b[49m\u001b[43m(\u001b[49m\u001b[43mquery\u001b[49m\u001b[43m)\u001b[49m\n",
      "File \u001b[0;32m~/Projects/generate-discharge-summaries/src/query_athena.py:74\u001b[0m, in \u001b[0;36mQueryAthena.run_query\u001b[0;34m(self, query)\u001b[0m\n\u001b[1;32m     72\u001b[0m     \u001b[38;5;28;01mif\u001b[39;00m query_status \u001b[38;5;241m==\u001b[39m \u001b[38;5;124m'\u001b[39m\u001b[38;5;124mFAILED\u001b[39m\u001b[38;5;124m'\u001b[39m \u001b[38;5;129;01mor\u001b[39;00m query_status \u001b[38;5;241m==\u001b[39m \u001b[38;5;124m'\u001b[39m\u001b[38;5;124mCANCELLED\u001b[39m\u001b[38;5;124m'\u001b[39m:\n\u001b[1;32m     73\u001b[0m         \u001b[38;5;28;01mraise\u001b[39;00m \u001b[38;5;167;01mException\u001b[39;00m(\u001b[38;5;124m'\u001b[39m\u001b[38;5;124mAthena query with the string \u001b[39m\u001b[38;5;124m\"\u001b[39m\u001b[38;5;132;01m{}\u001b[39;00m\u001b[38;5;124m\"\u001b[39m\u001b[38;5;124m failed or was cancelled\u001b[39m\u001b[38;5;124m'\u001b[39m\u001b[38;5;241m.\u001b[39mformat(query))\n\u001b[0;32m---> 74\u001b[0m     \u001b[43mtime\u001b[49m\u001b[38;5;241;43m.\u001b[39;49m\u001b[43msleep\u001b[49m\u001b[43m(\u001b[49m\u001b[38;5;241;43m10\u001b[39;49m\u001b[43m)\u001b[49m\n\u001b[1;32m     75\u001b[0m \u001b[38;5;28mprint\u001b[39m(\u001b[38;5;124m'\u001b[39m\u001b[38;5;124mQuery \u001b[39m\u001b[38;5;124m\"\u001b[39m\u001b[38;5;132;01m{}\u001b[39;00m\u001b[38;5;124m\"\u001b[39m\u001b[38;5;124m finished.\u001b[39m\u001b[38;5;124m'\u001b[39m\u001b[38;5;241m.\u001b[39mformat(query))\n\u001b[1;32m     77\u001b[0m df \u001b[38;5;241m=\u001b[39m \u001b[38;5;28mself\u001b[39m\u001b[38;5;241m.\u001b[39m_obtain_data()\n",
      "\u001b[0;31mKeyboardInterrupt\u001b[0m: "
     ]
    }
   ],
   "source": [
    "query = \"select * from noteevents\"\n",
    "noteevents = athena.run_query(query)"
   ]
  },
  {
   "cell_type": "code",
   "execution_count": null,
   "id": "a69b1fb6-310c-4f0b-8532-944ef8d7550d",
   "metadata": {},
   "outputs": [],
   "source": [
    "noteevents.head()"
   ]
  },
  {
   "cell_type": "markdown",
   "id": "473eaa53-46e2-4edc-8e83-5d6aff9be941",
   "metadata": {},
   "source": [
    "## 1. Get subjects with discharge summaries"
   ]
  },
  {
   "cell_type": "code",
   "execution_count": null,
   "id": "ac9de6ec-c9e7-4275-a8a1-f047216e3ba6",
   "metadata": {},
   "outputs": [],
   "source": [
    "ds_by_subj = noteevents.groupby('subject_id').agg({'category': lambda x: True if 'Discharge summary' in list(x) else False}).reset_index().rename(columns = {'category': 'ds_present'})\n",
    "ds_by_subj.ds_present.value_counts()"
   ]
  },
  {
   "cell_type": "code",
   "execution_count": null,
   "id": "cd2e4dfc-29f2-4942-a4b2-b23134870d10",
   "metadata": {},
   "outputs": [],
   "source": [
    "subjs_w_ds = ds_by_subj[ds_by_subj.ds_present == True].subject_id.tolist()\n",
    "len(subjs_w_ds)"
   ]
  },
  {
   "cell_type": "code",
   "execution_count": null,
   "id": "957e29bc-8177-4086-ae98-1a56d5ab303c",
   "metadata": {},
   "outputs": [],
   "source": [
    "ne_ds = noteevents[noteevents.subject_id.isin(subjs_w_ds)].reset_index(drop = True)"
   ]
  },
  {
   "cell_type": "code",
   "execution_count": null,
   "id": "b6d04f81-6e46-493d-8c8f-9fe647d07079",
   "metadata": {},
   "outputs": [],
   "source": [
    "ne_ds.shape"
   ]
  },
  {
   "cell_type": "code",
   "execution_count": 9,
   "id": "980dbd12-a626-4f16-bfc9-a90b7ffc8a8c",
   "metadata": {},
   "outputs": [
    {
     "data": {
      "text/html": [
       "<div>\n",
       "<style scoped>\n",
       "    .dataframe tbody tr th:only-of-type {\n",
       "        vertical-align: middle;\n",
       "    }\n",
       "\n",
       "    .dataframe tbody tr th {\n",
       "        vertical-align: top;\n",
       "    }\n",
       "\n",
       "    .dataframe thead th {\n",
       "        text-align: right;\n",
       "    }\n",
       "</style>\n",
       "<table border=\"1\" class=\"dataframe\">\n",
       "  <thead>\n",
       "    <tr style=\"text-align: right;\">\n",
       "      <th></th>\n",
       "      <th>row_id</th>\n",
       "      <th>subject_id</th>\n",
       "      <th>hadm_id</th>\n",
       "      <th>chartdate</th>\n",
       "      <th>charttime</th>\n",
       "      <th>storetime</th>\n",
       "      <th>category</th>\n",
       "      <th>description</th>\n",
       "      <th>cgid</th>\n",
       "      <th>iserror</th>\n",
       "      <th>text</th>\n",
       "    </tr>\n",
       "  </thead>\n",
       "  <tbody>\n",
       "    <tr>\n",
       "      <th>0</th>\n",
       "      <td>2004671</td>\n",
       "      <td>24291</td>\n",
       "      <td>148229.0</td>\n",
       "      <td>2163-01-19 00:00:00.000</td>\n",
       "      <td>2163-01-19 18:39:00.000</td>\n",
       "      <td>2163-01-19 18:41:00.000</td>\n",
       "      <td>Nursing/other</td>\n",
       "      <td>Report</td>\n",
       "      <td>15522.0</td>\n",
       "      <td>NaN</td>\n",
       "      <td>Nursing NICU note Addendum.\\nMother in this ev...</td>\n",
       "    </tr>\n",
       "    <tr>\n",
       "      <th>1</th>\n",
       "      <td>587175</td>\n",
       "      <td>69322</td>\n",
       "      <td>192784.0</td>\n",
       "      <td>2176-07-21 00:00:00.000</td>\n",
       "      <td>2176-07-21 09:36:00.000</td>\n",
       "      <td>2176-07-21 09:36:11.000</td>\n",
       "      <td>Physician</td>\n",
       "      <td>Generic Note</td>\n",
       "      <td>18780.0</td>\n",
       "      <td>NaN</td>\n",
       "      <td>TITLE:\\n   CVICU\\n   HPI:\\n   HD5\\n   [**7-21*...</td>\n",
       "    </tr>\n",
       "    <tr>\n",
       "      <th>2</th>\n",
       "      <td>2004672</td>\n",
       "      <td>24291</td>\n",
       "      <td>148229.0</td>\n",
       "      <td>2163-01-20 00:00:00.000</td>\n",
       "      <td>2163-01-20 06:45:00.000</td>\n",
       "      <td>2163-01-20 07:00:00.000</td>\n",
       "      <td>Nursing/other</td>\n",
       "      <td>Report</td>\n",
       "      <td>16024.0</td>\n",
       "      <td>NaN</td>\n",
       "      <td>NPN  1900-0700\\n\\n\\n1.  FEN:  TF=130cc/k/day B...</td>\n",
       "    </tr>\n",
       "    <tr>\n",
       "      <th>3</th>\n",
       "      <td>2002347</td>\n",
       "      <td>24131</td>\n",
       "      <td>117291.0</td>\n",
       "      <td>2174-10-11 00:00:00.000</td>\n",
       "      <td>2174-10-11 08:08:00.000</td>\n",
       "      <td>2174-10-11 08:12:00.000</td>\n",
       "      <td>Nursing/other</td>\n",
       "      <td>Report</td>\n",
       "      <td>20888.0</td>\n",
       "      <td>NaN</td>\n",
       "      <td>[**Location (un) 369**]/NEON DOL 5 CGA 34 [**5...</td>\n",
       "    </tr>\n",
       "    <tr>\n",
       "      <th>4</th>\n",
       "      <td>2002348</td>\n",
       "      <td>24131</td>\n",
       "      <td>117291.0</td>\n",
       "      <td>2174-10-11 00:00:00.000</td>\n",
       "      <td>2174-10-11 15:20:00.000</td>\n",
       "      <td>2174-10-11 15:27:00.000</td>\n",
       "      <td>Nursing/other</td>\n",
       "      <td>Report</td>\n",
       "      <td>18389.0</td>\n",
       "      <td>NaN</td>\n",
       "      <td>NPNote\\n\\n\\n#1.Remains in Ra ir, BBS clear, eq...</td>\n",
       "    </tr>\n",
       "  </tbody>\n",
       "</table>\n",
       "</div>"
      ],
      "text/plain": [
       "    row_id  subject_id   hadm_id                chartdate  \\\n",
       "0  2004671       24291  148229.0  2163-01-19 00:00:00.000   \n",
       "1   587175       69322  192784.0  2176-07-21 00:00:00.000   \n",
       "2  2004672       24291  148229.0  2163-01-20 00:00:00.000   \n",
       "3  2002347       24131  117291.0  2174-10-11 00:00:00.000   \n",
       "4  2002348       24131  117291.0  2174-10-11 00:00:00.000   \n",
       "\n",
       "                 charttime                storetime       category  \\\n",
       "0  2163-01-19 18:39:00.000  2163-01-19 18:41:00.000  Nursing/other   \n",
       "1  2176-07-21 09:36:00.000  2176-07-21 09:36:11.000     Physician    \n",
       "2  2163-01-20 06:45:00.000  2163-01-20 07:00:00.000  Nursing/other   \n",
       "3  2174-10-11 08:08:00.000  2174-10-11 08:12:00.000  Nursing/other   \n",
       "4  2174-10-11 15:20:00.000  2174-10-11 15:27:00.000  Nursing/other   \n",
       "\n",
       "    description     cgid  iserror  \\\n",
       "0        Report  15522.0      NaN   \n",
       "1  Generic Note  18780.0      NaN   \n",
       "2        Report  16024.0      NaN   \n",
       "3        Report  20888.0      NaN   \n",
       "4        Report  18389.0      NaN   \n",
       "\n",
       "                                                text  \n",
       "0  Nursing NICU note Addendum.\\nMother in this ev...  \n",
       "1  TITLE:\\n   CVICU\\n   HPI:\\n   HD5\\n   [**7-21*...  \n",
       "2  NPN  1900-0700\\n\\n\\n1.  FEN:  TF=130cc/k/day B...  \n",
       "3  [**Location (un) 369**]/NEON DOL 5 CGA 34 [**5...  \n",
       "4  NPNote\\n\\n\\n#1.Remains in Ra ir, BBS clear, eq...  "
      ]
     },
     "execution_count": 9,
     "metadata": {},
     "output_type": "execute_result"
    }
   ],
   "source": [
    "ne_ds.head()"
   ]
  },
  {
   "cell_type": "markdown",
   "id": "08524d7b-fc00-46a1-ad08-9667bdec55e2",
   "metadata": {},
   "source": [
    "## 2. Get HADM_IDs where there is only 1 discharge summary report\n",
    "Subjects can have multiple HADM_IDs, but HADM_ID is unique"
   ]
  },
  {
   "cell_type": "code",
   "execution_count": 10,
   "id": "3deee36f-9fcd-4515-b3ca-09ca86b68520",
   "metadata": {},
   "outputs": [
    {
     "data": {
      "text/html": [
       "<div>\n",
       "<style scoped>\n",
       "    .dataframe tbody tr th:only-of-type {\n",
       "        vertical-align: middle;\n",
       "    }\n",
       "\n",
       "    .dataframe tbody tr th {\n",
       "        vertical-align: top;\n",
       "    }\n",
       "\n",
       "    .dataframe thead th {\n",
       "        text-align: right;\n",
       "    }\n",
       "</style>\n",
       "<table border=\"1\" class=\"dataframe\">\n",
       "  <thead>\n",
       "    <tr style=\"text-align: right;\">\n",
       "      <th>category</th>\n",
       "      <th>subject_id</th>\n",
       "      <th>hadm_id</th>\n",
       "      <th>description</th>\n",
       "      <th>Case Management</th>\n",
       "      <th>Consult</th>\n",
       "      <th>Discharge summary</th>\n",
       "      <th>ECG</th>\n",
       "      <th>Echo</th>\n",
       "      <th>General</th>\n",
       "      <th>Nursing</th>\n",
       "      <th>Nursing/other</th>\n",
       "      <th>Nutrition</th>\n",
       "      <th>Pharmacy</th>\n",
       "      <th>Physician</th>\n",
       "      <th>Radiology</th>\n",
       "      <th>Rehab Services</th>\n",
       "      <th>Respiratory</th>\n",
       "      <th>Social Work</th>\n",
       "    </tr>\n",
       "  </thead>\n",
       "  <tbody>\n",
       "    <tr>\n",
       "      <th>0</th>\n",
       "      <td>3</td>\n",
       "      <td>145834.0</td>\n",
       "      <td>CHEST (PORTABLE AP)</td>\n",
       "      <td>0</td>\n",
       "      <td>0</td>\n",
       "      <td>0</td>\n",
       "      <td>0</td>\n",
       "      <td>0</td>\n",
       "      <td>0</td>\n",
       "      <td>0</td>\n",
       "      <td>0</td>\n",
       "      <td>0</td>\n",
       "      <td>0</td>\n",
       "      <td>0</td>\n",
       "      <td>12</td>\n",
       "      <td>0</td>\n",
       "      <td>0</td>\n",
       "      <td>0</td>\n",
       "    </tr>\n",
       "    <tr>\n",
       "      <th>1</th>\n",
       "      <td>3</td>\n",
       "      <td>145834.0</td>\n",
       "      <td>CT ABDOMEN W/O CONTRAST</td>\n",
       "      <td>0</td>\n",
       "      <td>0</td>\n",
       "      <td>0</td>\n",
       "      <td>0</td>\n",
       "      <td>0</td>\n",
       "      <td>0</td>\n",
       "      <td>0</td>\n",
       "      <td>0</td>\n",
       "      <td>0</td>\n",
       "      <td>0</td>\n",
       "      <td>0</td>\n",
       "      <td>1</td>\n",
       "      <td>0</td>\n",
       "      <td>0</td>\n",
       "      <td>0</td>\n",
       "    </tr>\n",
       "    <tr>\n",
       "      <th>2</th>\n",
       "      <td>3</td>\n",
       "      <td>145834.0</td>\n",
       "      <td>Report</td>\n",
       "      <td>0</td>\n",
       "      <td>0</td>\n",
       "      <td>1</td>\n",
       "      <td>9</td>\n",
       "      <td>3</td>\n",
       "      <td>0</td>\n",
       "      <td>0</td>\n",
       "      <td>19</td>\n",
       "      <td>0</td>\n",
       "      <td>0</td>\n",
       "      <td>0</td>\n",
       "      <td>0</td>\n",
       "      <td>0</td>\n",
       "      <td>0</td>\n",
       "      <td>0</td>\n",
       "    </tr>\n",
       "    <tr>\n",
       "      <th>3</th>\n",
       "      <td>3</td>\n",
       "      <td>145834.0</td>\n",
       "      <td>VIDEO OROPHARYNGEAL SWALLOW</td>\n",
       "      <td>0</td>\n",
       "      <td>0</td>\n",
       "      <td>0</td>\n",
       "      <td>0</td>\n",
       "      <td>0</td>\n",
       "      <td>0</td>\n",
       "      <td>0</td>\n",
       "      <td>0</td>\n",
       "      <td>0</td>\n",
       "      <td>0</td>\n",
       "      <td>0</td>\n",
       "      <td>1</td>\n",
       "      <td>0</td>\n",
       "      <td>0</td>\n",
       "      <td>0</td>\n",
       "    </tr>\n",
       "    <tr>\n",
       "      <th>4</th>\n",
       "      <td>4</td>\n",
       "      <td>185777.0</td>\n",
       "      <td>CHEST (PORTABLE AP)</td>\n",
       "      <td>0</td>\n",
       "      <td>0</td>\n",
       "      <td>0</td>\n",
       "      <td>0</td>\n",
       "      <td>0</td>\n",
       "      <td>0</td>\n",
       "      <td>0</td>\n",
       "      <td>0</td>\n",
       "      <td>0</td>\n",
       "      <td>0</td>\n",
       "      <td>0</td>\n",
       "      <td>6</td>\n",
       "      <td>0</td>\n",
       "      <td>0</td>\n",
       "      <td>0</td>\n",
       "    </tr>\n",
       "  </tbody>\n",
       "</table>\n",
       "</div>"
      ],
      "text/plain": [
       "category  subject_id   hadm_id                  description  Case Management   \\\n",
       "0                  3  145834.0          CHEST (PORTABLE AP)                 0   \n",
       "1                  3  145834.0      CT ABDOMEN W/O CONTRAST                 0   \n",
       "2                  3  145834.0                       Report                 0   \n",
       "3                  3  145834.0  VIDEO OROPHARYNGEAL SWALLOW                 0   \n",
       "4                  4  185777.0          CHEST (PORTABLE AP)                 0   \n",
       "\n",
       "category  Consult  Discharge summary  ECG  Echo  General  Nursing  \\\n",
       "0               0                  0    0     0        0        0   \n",
       "1               0                  0    0     0        0        0   \n",
       "2               0                  1    9     3        0        0   \n",
       "3               0                  0    0     0        0        0   \n",
       "4               0                  0    0     0        0        0   \n",
       "\n",
       "category  Nursing/other  Nutrition  Pharmacy  Physician   Radiology  \\\n",
       "0                     0          0         0           0         12   \n",
       "1                     0          0         0           0          1   \n",
       "2                    19          0         0           0          0   \n",
       "3                     0          0         0           0          1   \n",
       "4                     0          0         0           0          6   \n",
       "\n",
       "category  Rehab Services  Respiratory   Social Work  \n",
       "0                      0             0            0  \n",
       "1                      0             0            0  \n",
       "2                      0             0            0  \n",
       "3                      0             0            0  \n",
       "4                      0             0            0  "
      ]
     },
     "execution_count": 10,
     "metadata": {},
     "output_type": "execute_result"
    }
   ],
   "source": [
    "pivot_ne_ds = ne_ds[['subject_id', 'hadm_id', 'category', 'description']].pivot_table(index=['subject_id', 'hadm_id', 'description'], columns='category', aggfunc='size', fill_value=0).reset_index()\n",
    "pivot_ne_ds.head()"
   ]
  },
  {
   "cell_type": "code",
   "execution_count": 11,
   "id": "0d9b60a9-696b-4565-86ef-f80a3e10f5dc",
   "metadata": {},
   "outputs": [],
   "source": [
    "target_hadm_ids = pivot_ne_ds[(pivot_ne_ds.description.str.lower()=='report') & (pivot_ne_ds['Discharge summary']==1)].hadm_id.tolist()"
   ]
  },
  {
   "cell_type": "code",
   "execution_count": 12,
   "id": "2f775d1a-2660-4c31-9425-dfb8d2642c6c",
   "metadata": {},
   "outputs": [
    {
     "data": {
      "text/plain": [
       "description\n",
       "Report      50563\n",
       "Addendum     3962\n",
       "Name: count, dtype: int64"
      ]
     },
     "execution_count": 12,
     "metadata": {},
     "output_type": "execute_result"
    }
   ],
   "source": [
    "noteevents2 = noteevents[noteevents.hadm_id.isin(target_hadm_ids)]\n",
    "noteevents2[noteevents2.category.str.lower()=='discharge summary'].description.value_counts()"
   ]
  },
  {
   "cell_type": "markdown",
   "id": "ddd942fa-9686-4201-820c-e0275c50a307",
   "metadata": {},
   "source": [
    "## 3. Drop Addendums"
   ]
  },
  {
   "cell_type": "code",
   "execution_count": 13,
   "id": "1e95137d-0e78-4b38-9f54-9ffa5e4a154c",
   "metadata": {},
   "outputs": [
    {
     "data": {
      "text/plain": [
       "description\n",
       "Report    50563\n",
       "Name: count, dtype: int64"
      ]
     },
     "execution_count": 13,
     "metadata": {},
     "output_type": "execute_result"
    }
   ],
   "source": [
    "noteevents2 = noteevents2[~((noteevents2.category.str.lower() == 'discharge summary') & (noteevents2.description.str.lower() == 'addendum'))].reset_index(drop=True)\n",
    "noteevents2[noteevents2.category.str.lower()=='discharge summary'].description.value_counts()"
   ]
  },
  {
   "cell_type": "markdown",
   "id": "9c152fae-c243-4d50-bf83-e4fb5c550726",
   "metadata": {},
   "source": [
    "## 4. Find Headers"
   ]
  },
  {
   "cell_type": "code",
   "execution_count": 14,
   "id": "79fbe361-b6c9-4f6d-acbc-df55e5a631d2",
   "metadata": {},
   "outputs": [],
   "source": [
    "noteevents2.loc[noteevents2.category == 'Discharge summary', 'headers'] = noteevents2.loc[noteevents2.category == 'Discharge summary'].text.apply(lambda x: get_discharge_headers(x))"
   ]
  },
  {
   "cell_type": "code",
   "execution_count": 15,
   "id": "6c0b4e4d-f0f4-4baa-9577-b2368e7b0ad5",
   "metadata": {},
   "outputs": [
    {
     "data": {
      "text/html": [
       "<div>\n",
       "<style scoped>\n",
       "    .dataframe tbody tr th:only-of-type {\n",
       "        vertical-align: middle;\n",
       "    }\n",
       "\n",
       "    .dataframe tbody tr th {\n",
       "        vertical-align: top;\n",
       "    }\n",
       "\n",
       "    .dataframe thead th {\n",
       "        text-align: right;\n",
       "    }\n",
       "</style>\n",
       "<table border=\"1\" class=\"dataframe\">\n",
       "  <thead>\n",
       "    <tr style=\"text-align: right;\">\n",
       "      <th></th>\n",
       "      <th>row_id</th>\n",
       "      <th>subject_id</th>\n",
       "      <th>hadm_id</th>\n",
       "      <th>chartdate</th>\n",
       "      <th>charttime</th>\n",
       "      <th>storetime</th>\n",
       "      <th>category</th>\n",
       "      <th>description</th>\n",
       "      <th>cgid</th>\n",
       "      <th>iserror</th>\n",
       "      <th>text</th>\n",
       "      <th>headers</th>\n",
       "    </tr>\n",
       "  </thead>\n",
       "  <tbody>\n",
       "    <tr>\n",
       "      <th>0</th>\n",
       "      <td>587175</td>\n",
       "      <td>69322</td>\n",
       "      <td>192784.0</td>\n",
       "      <td>2176-07-21 00:00:00.000</td>\n",
       "      <td>2176-07-21 09:36:00.000</td>\n",
       "      <td>2176-07-21 09:36:11.000</td>\n",
       "      <td>Physician</td>\n",
       "      <td>Generic Note</td>\n",
       "      <td>18780.0</td>\n",
       "      <td>NaN</td>\n",
       "      <td>TITLE:\\n   CVICU\\n   HPI:\\n   HD5\\n   [**7-21*...</td>\n",
       "      <td>NaN</td>\n",
       "    </tr>\n",
       "    <tr>\n",
       "      <th>1</th>\n",
       "      <td>2002347</td>\n",
       "      <td>24131</td>\n",
       "      <td>117291.0</td>\n",
       "      <td>2174-10-11 00:00:00.000</td>\n",
       "      <td>2174-10-11 08:08:00.000</td>\n",
       "      <td>2174-10-11 08:12:00.000</td>\n",
       "      <td>Nursing/other</td>\n",
       "      <td>Report</td>\n",
       "      <td>20888.0</td>\n",
       "      <td>NaN</td>\n",
       "      <td>[**Location (un) 369**]/NEON DOL 5 CGA 34 [**5...</td>\n",
       "      <td>NaN</td>\n",
       "    </tr>\n",
       "    <tr>\n",
       "      <th>2</th>\n",
       "      <td>2002348</td>\n",
       "      <td>24131</td>\n",
       "      <td>117291.0</td>\n",
       "      <td>2174-10-11 00:00:00.000</td>\n",
       "      <td>2174-10-11 15:20:00.000</td>\n",
       "      <td>2174-10-11 15:27:00.000</td>\n",
       "      <td>Nursing/other</td>\n",
       "      <td>Report</td>\n",
       "      <td>18389.0</td>\n",
       "      <td>NaN</td>\n",
       "      <td>NPNote\\n\\n\\n#1.Remains in Ra ir, BBS clear, eq...</td>\n",
       "      <td>NaN</td>\n",
       "    </tr>\n",
       "    <tr>\n",
       "      <th>3</th>\n",
       "      <td>2002349</td>\n",
       "      <td>24131</td>\n",
       "      <td>117291.0</td>\n",
       "      <td>2174-10-11 00:00:00.000</td>\n",
       "      <td>2174-10-11 18:03:00.000</td>\n",
       "      <td>2174-10-11 18:04:00.000</td>\n",
       "      <td>Nursing/other</td>\n",
       "      <td>Report</td>\n",
       "      <td>18389.0</td>\n",
       "      <td>NaN</td>\n",
       "      <td>nursing\\nAddendum;parents visited, mom attempt...</td>\n",
       "      <td>NaN</td>\n",
       "    </tr>\n",
       "    <tr>\n",
       "      <th>4</th>\n",
       "      <td>2002426</td>\n",
       "      <td>24131</td>\n",
       "      <td>117291.0</td>\n",
       "      <td>2174-10-29 00:00:00.000</td>\n",
       "      <td>2174-10-29 14:50:00.000</td>\n",
       "      <td>2174-10-29 15:08:00.000</td>\n",
       "      <td>Nursing/other</td>\n",
       "      <td>Report</td>\n",
       "      <td>20713.0</td>\n",
       "      <td>NaN</td>\n",
       "      <td>1. RESP-Infant is in RA with RR 30-50's. Lungs...</td>\n",
       "      <td>NaN</td>\n",
       "    </tr>\n",
       "  </tbody>\n",
       "</table>\n",
       "</div>"
      ],
      "text/plain": [
       "    row_id  subject_id   hadm_id                chartdate  \\\n",
       "0   587175       69322  192784.0  2176-07-21 00:00:00.000   \n",
       "1  2002347       24131  117291.0  2174-10-11 00:00:00.000   \n",
       "2  2002348       24131  117291.0  2174-10-11 00:00:00.000   \n",
       "3  2002349       24131  117291.0  2174-10-11 00:00:00.000   \n",
       "4  2002426       24131  117291.0  2174-10-29 00:00:00.000   \n",
       "\n",
       "                 charttime                storetime       category  \\\n",
       "0  2176-07-21 09:36:00.000  2176-07-21 09:36:11.000     Physician    \n",
       "1  2174-10-11 08:08:00.000  2174-10-11 08:12:00.000  Nursing/other   \n",
       "2  2174-10-11 15:20:00.000  2174-10-11 15:27:00.000  Nursing/other   \n",
       "3  2174-10-11 18:03:00.000  2174-10-11 18:04:00.000  Nursing/other   \n",
       "4  2174-10-29 14:50:00.000  2174-10-29 15:08:00.000  Nursing/other   \n",
       "\n",
       "    description     cgid  iserror  \\\n",
       "0  Generic Note  18780.0      NaN   \n",
       "1        Report  20888.0      NaN   \n",
       "2        Report  18389.0      NaN   \n",
       "3        Report  18389.0      NaN   \n",
       "4        Report  20713.0      NaN   \n",
       "\n",
       "                                                text headers  \n",
       "0  TITLE:\\n   CVICU\\n   HPI:\\n   HD5\\n   [**7-21*...     NaN  \n",
       "1  [**Location (un) 369**]/NEON DOL 5 CGA 34 [**5...     NaN  \n",
       "2  NPNote\\n\\n\\n#1.Remains in Ra ir, BBS clear, eq...     NaN  \n",
       "3  nursing\\nAddendum;parents visited, mom attempt...     NaN  \n",
       "4  1. RESP-Infant is in RA with RR 30-50's. Lungs...     NaN  "
      ]
     },
     "execution_count": 15,
     "metadata": {},
     "output_type": "execute_result"
    }
   ],
   "source": [
    "noteevents2.head()"
   ]
  },
  {
   "cell_type": "code",
   "execution_count": 16,
   "id": "955a077f-77f2-42a3-9264-85c78dc4060e",
   "metadata": {},
   "outputs": [
    {
     "data": {
      "text/plain": [
       "50563"
      ]
     },
     "execution_count": 16,
     "metadata": {},
     "output_type": "execute_result"
    }
   ],
   "source": [
    "noteevents2.hadm_id.nunique()"
   ]
  },
  {
   "cell_type": "markdown",
   "id": "0ac77b96-1a2e-4b1a-ab21-2cc5e45573d4",
   "metadata": {},
   "source": [
    "we have 50K examples"
   ]
  },
  {
   "cell_type": "markdown",
   "id": "c8cb7aac-ef01-4ad0-9105-e3ebde5645da",
   "metadata": {},
   "source": [
    "## 5. Get target text"
   ]
  },
  {
   "cell_type": "code",
   "execution_count": 17,
   "id": "9f6f10cd-1249-4cc5-ba3c-6cfe67003ea7",
   "metadata": {},
   "outputs": [],
   "source": [
    "noteevents2.loc[noteevents2.category == 'Discharge summary', 'target_text'] = noteevents2.loc[noteevents2.category == 'Discharge summary'].apply(lambda x: get_target_text(x.text, x.headers), axis = 1)"
   ]
  },
  {
   "cell_type": "code",
   "execution_count": 18,
   "id": "581c8ab6-8dd6-45fc-b094-172b6160a728",
   "metadata": {},
   "outputs": [
    {
     "data": {
      "text/plain": [
       "4423                                            NOT FOUND\n",
       "4424    82 y/o female admitted [**2119-5-4**] for cons...\n",
       "4425    87 yo F with h/o CHF, COPD on 5 L oxygen at ba...\n",
       "4426                                            NOT FOUND\n",
       "4427    Patient presented electively for meningioma re...\n",
       "Name: target_text, dtype: object"
      ]
     },
     "execution_count": 18,
     "metadata": {},
     "output_type": "execute_result"
    }
   ],
   "source": [
    "noteevents2[noteevents2.category == 'Discharge summary'].head().target_text"
   ]
  },
  {
   "cell_type": "markdown",
   "id": "15676c3c-b8b0-4d3a-82cf-4175d15b78f0",
   "metadata": {},
   "source": [
    "## 6. Drop subjects/hadm_ids that do not have \"BRIEF HOSPITAL COURSE\" or \"HOSPITAL COURSE\", or have them both"
   ]
  },
  {
   "cell_type": "code",
   "execution_count": 19,
   "id": "d6760d31-5b80-463a-8594-b00bc40b86b6",
   "metadata": {},
   "outputs": [
    {
     "data": {
      "text/plain": [
       "target_text\n",
       "NOT FOUND         14590\n",
       "MULTIPLE FOUND       34\n",
       "Name: count, dtype: int64"
      ]
     },
     "execution_count": 19,
     "metadata": {},
     "output_type": "execute_result"
    }
   ],
   "source": [
    "noteevents2[noteevents2.target_text.isin(['NOT FOUND', 'MULTIPLE FOUND', np.nan])].target_text.value_counts()"
   ]
  },
  {
   "cell_type": "code",
   "execution_count": 20,
   "id": "11581d58-6051-45d8-b758-c864985f957c",
   "metadata": {},
   "outputs": [],
   "source": [
    "exclude_hadmids = noteevents2[noteevents2.target_text.isin(['NOT FOUND', 'MULTIPLE FOUND'])].hadm_id.tolist()"
   ]
  },
  {
   "cell_type": "code",
   "execution_count": 21,
   "id": "e56131dd-8ed9-4d06-8f97-ef39853dba8b",
   "metadata": {},
   "outputs": [
    {
     "data": {
      "text/plain": [
       "(1091841, 13)"
      ]
     },
     "execution_count": 21,
     "metadata": {},
     "output_type": "execute_result"
    }
   ],
   "source": [
    "noteevents3 = noteevents2[~noteevents2.hadm_id.isin(exclude_hadmids)].reset_index(drop=True)\n",
    "noteevents3.shape"
   ]
  },
  {
   "cell_type": "code",
   "execution_count": 22,
   "id": "6b52b861-9578-47ef-bfc0-1342e618d3d3",
   "metadata": {},
   "outputs": [
    {
     "data": {
      "text/plain": [
       "28752"
      ]
     },
     "execution_count": 22,
     "metadata": {},
     "output_type": "execute_result"
    }
   ],
   "source": [
    "noteevents3.subject_id.nunique()"
   ]
  },
  {
   "cell_type": "code",
   "execution_count": 23,
   "id": "6b1eb0f6-60ad-4c10-a073-f78d6ba31cda",
   "metadata": {},
   "outputs": [
    {
     "data": {
      "text/plain": [
       "35939"
      ]
     },
     "execution_count": 23,
     "metadata": {},
     "output_type": "execute_result"
    }
   ],
   "source": [
    "noteevents3.hadm_id.nunique()"
   ]
  },
  {
   "cell_type": "markdown",
   "id": "59c36dcc-bcab-4fb0-9495-a5a2935d587e",
   "metadata": {},
   "source": [
    "We have nearly 34K samples!"
   ]
  },
  {
   "cell_type": "code",
   "execution_count": 24,
   "id": "504f6b09-b9fa-4de4-a75d-b242a163754a",
   "metadata": {},
   "outputs": [
    {
     "data": {
      "text/plain": [
       "category\n",
       "Nursing/other        378940\n",
       "Radiology            251399\n",
       "Nursing              159197\n",
       "Physician            104507\n",
       "ECG                   97046\n",
       "Discharge summary     35939\n",
       "Echo                  22721\n",
       "Respiratory           22476\n",
       "Nutrition              6785\n",
       "General                6235\n",
       "Rehab Services         3722\n",
       "Social Work            1981\n",
       "Case Management         742\n",
       "Consult                  79\n",
       "Pharmacy                 72\n",
       "Name: count, dtype: int64"
      ]
     },
     "execution_count": 24,
     "metadata": {},
     "output_type": "execute_result"
    }
   ],
   "source": [
    "noteevents3.category.value_counts()"
   ]
  },
  {
   "cell_type": "markdown",
   "id": "269433cb-a786-4c2d-8387-9fef8908d1f7",
   "metadata": {},
   "source": [
    "## Generate the Dataset"
   ]
  },
  {
   "cell_type": "markdown",
   "id": "e4ea957e-f726-4c46-992d-7a54c5fcaadf",
   "metadata": {},
   "source": [
    "### Create functions to aggregate data for dataset"
   ]
  },
  {
   "cell_type": "code",
   "execution_count": 51,
   "id": "e4a8ed24-fa60-42d6-92b4-243a5726c3b6",
   "metadata": {},
   "outputs": [],
   "source": [
    "def cols2dict(row):\n",
    "    return {'row_id': row.row_id, 'chartdate': row.chartdate, 'category': row.category, 'description': row.description, 'text': row.text}\n",
    "\n",
    "def prep_dataset(df_og):\n",
    "    df = df_og.copy()\n",
    "    df.loc[df.category.str.lower() != 'discharge summary', 'notes'] = df.loc[df.category.str.lower() != 'discharge summary'].apply(lambda row: cols2dict(row), axis = 1)\n",
    "    grouped = df.groupby(['subject_id', 'hadm_id']).agg({'notes': lambda x: [i for i in x if not pd.isnull(i)], 'target_text': lambda x: [i for i in x if not pd.isnull(i)][0]}).reset_index()\n",
    "    # group1 = df.groupby(['subject_id', 'hadm_id']).agg({'notes': lambda x: [i for i in x if not pd.isnull(i)]}).reset_index()\n",
    "    # print(group1.shape[0])\n",
    "    # group2 = df[(df.category.str.lower()=='discharge summary') & (~pd.isnull(df.target_text))][['subject_id', 'hadm_id', 'target_text']].reset_index()\n",
    "    # print(group2.shape[0])\n",
    "    # grouped = pd.merge(group1, group2, how = 'inner', on = ['hadm_id', 'subject_id'])\n",
    "    print(grouped.shape)\n",
    "    return grouped"
   ]
  },
  {
   "cell_type": "code",
   "execution_count": 52,
   "id": "3322b2f8-67d3-420e-9fab-f8409124c0f0",
   "metadata": {},
   "outputs": [
    {
     "name": "stdout",
     "output_type": "stream",
     "text": [
      "(35939, 4)\n"
     ]
    }
   ],
   "source": [
    "prepped_df = prep_dataset(noteevents3)"
   ]
  },
  {
   "cell_type": "code",
   "execution_count": 53,
   "id": "82c1bb0e-dcee-4eae-bf1e-70776ffb7ee5",
   "metadata": {},
   "outputs": [
    {
     "name": "stdout",
     "output_type": "stream",
     "text": [
      "Prepped Data Shape: 35939\n",
      "N unique hadm_ids: 35939\n"
     ]
    }
   ],
   "source": [
    "print(f\"Prepped Data Shape: {prepped_df.shape[0]}\\nN unique hadm_ids: {prepped_df.hadm_id.nunique()}\")"
   ]
  },
  {
   "cell_type": "code",
   "execution_count": 54,
   "id": "064c93f3-47fa-4b2b-9c72-606d1ea636aa",
   "metadata": {},
   "outputs": [
    {
     "data": {
      "text/html": [
       "<div>\n",
       "<style scoped>\n",
       "    .dataframe tbody tr th:only-of-type {\n",
       "        vertical-align: middle;\n",
       "    }\n",
       "\n",
       "    .dataframe tbody tr th {\n",
       "        vertical-align: top;\n",
       "    }\n",
       "\n",
       "    .dataframe thead th {\n",
       "        text-align: right;\n",
       "    }\n",
       "</style>\n",
       "<table border=\"1\" class=\"dataframe\">\n",
       "  <thead>\n",
       "    <tr style=\"text-align: right;\">\n",
       "      <th></th>\n",
       "      <th>subject_id</th>\n",
       "      <th>hadm_id</th>\n",
       "      <th>notes</th>\n",
       "      <th>target_text</th>\n",
       "    </tr>\n",
       "  </thead>\n",
       "  <tbody>\n",
       "    <tr>\n",
       "      <th>0</th>\n",
       "      <td>9</td>\n",
       "      <td>150750.0</td>\n",
       "      <td>[{'row_id': 1260715, 'chartdate': '2149-11-09 ...</td>\n",
       "      <td>1.  NEUROLOGIC:  Left putaminal bleed secondar...</td>\n",
       "    </tr>\n",
       "    <tr>\n",
       "      <th>1</th>\n",
       "      <td>10</td>\n",
       "      <td>184167.0</td>\n",
       "      <td>[{'row_id': 793184, 'chartdate': '2103-07-05 0...</td>\n",
       "      <td>1.) Respiratory:  Baby Girl [**Known lastname ...</td>\n",
       "    </tr>\n",
       "    <tr>\n",
       "      <th>2</th>\n",
       "      <td>17</td>\n",
       "      <td>161087.0</td>\n",
       "      <td>[{'row_id': 1260773, 'chartdate': '2135-05-09 ...</td>\n",
       "      <td>Admitted through ER as above and referred to C...</td>\n",
       "    </tr>\n",
       "    <tr>\n",
       "      <th>3</th>\n",
       "      <td>19</td>\n",
       "      <td>109235.0</td>\n",
       "      <td>[{'row_id': 1260781, 'chartdate': '2108-08-06 ...</td>\n",
       "      <td>Patient admitted to the trauma service. Orthop...</td>\n",
       "    </tr>\n",
       "    <tr>\n",
       "      <th>4</th>\n",
       "      <td>21</td>\n",
       "      <td>109451.0</td>\n",
       "      <td>[{'row_id': 1260788, 'chartdate': '2134-09-13 ...</td>\n",
       "      <td>1. Rhythm: pt had 2 episodes of monomorphic VT...</td>\n",
       "    </tr>\n",
       "  </tbody>\n",
       "</table>\n",
       "</div>"
      ],
      "text/plain": [
       "   subject_id   hadm_id                                              notes  \\\n",
       "0           9  150750.0  [{'row_id': 1260715, 'chartdate': '2149-11-09 ...   \n",
       "1          10  184167.0  [{'row_id': 793184, 'chartdate': '2103-07-05 0...   \n",
       "2          17  161087.0  [{'row_id': 1260773, 'chartdate': '2135-05-09 ...   \n",
       "3          19  109235.0  [{'row_id': 1260781, 'chartdate': '2108-08-06 ...   \n",
       "4          21  109451.0  [{'row_id': 1260788, 'chartdate': '2134-09-13 ...   \n",
       "\n",
       "                                         target_text  \n",
       "0  1.  NEUROLOGIC:  Left putaminal bleed secondar...  \n",
       "1  1.) Respiratory:  Baby Girl [**Known lastname ...  \n",
       "2  Admitted through ER as above and referred to C...  \n",
       "3  Patient admitted to the trauma service. Orthop...  \n",
       "4  1. Rhythm: pt had 2 episodes of monomorphic VT...  "
      ]
     },
     "execution_count": 54,
     "metadata": {},
     "output_type": "execute_result"
    }
   ],
   "source": [
    "prepped_df.head()"
   ]
  },
  {
   "cell_type": "code",
   "execution_count": 57,
   "id": "5c2ae39a-c5dd-4487-aed0-b685fe035419",
   "metadata": {},
   "outputs": [
    {
     "data": {
      "text/plain": [
       "0"
      ]
     },
     "execution_count": 57,
     "metadata": {},
     "output_type": "execute_result"
    }
   ],
   "source": [
    "prepped_df.target_text.isna().sum()"
   ]
  },
  {
   "cell_type": "code",
   "execution_count": 58,
   "id": "5a811c18-ced9-4df9-982f-e85be487d5e5",
   "metadata": {},
   "outputs": [
    {
     "data": {
      "text/html": [
       "<div>\n",
       "<style scoped>\n",
       "    .dataframe tbody tr th:only-of-type {\n",
       "        vertical-align: middle;\n",
       "    }\n",
       "\n",
       "    .dataframe tbody tr th {\n",
       "        vertical-align: top;\n",
       "    }\n",
       "\n",
       "    .dataframe thead th {\n",
       "        text-align: right;\n",
       "    }\n",
       "</style>\n",
       "<table border=\"1\" class=\"dataframe\">\n",
       "  <thead>\n",
       "    <tr style=\"text-align: right;\">\n",
       "      <th></th>\n",
       "      <th>subject_id</th>\n",
       "      <th>hadm_id</th>\n",
       "      <th>notes</th>\n",
       "      <th>target_text</th>\n",
       "    </tr>\n",
       "  </thead>\n",
       "  <tbody>\n",
       "    <tr>\n",
       "      <th>318</th>\n",
       "      <td>406</td>\n",
       "      <td>174925.0</td>\n",
       "      <td>[]</td>\n",
       "      <td>PRIMARY REASON FOR HOSPITALIZATION: Patient is...</td>\n",
       "    </tr>\n",
       "    <tr>\n",
       "      <th>434</th>\n",
       "      <td>573</td>\n",
       "      <td>169615.0</td>\n",
       "      <td>[]</td>\n",
       "      <td>The patient was admitted to the Newborn Nurser...</td>\n",
       "    </tr>\n",
       "    <tr>\n",
       "      <th>624</th>\n",
       "      <td>852</td>\n",
       "      <td>133054.0</td>\n",
       "      <td>[]</td>\n",
       "      <td>Pt was admitted through same day admission and...</td>\n",
       "    </tr>\n",
       "    <tr>\n",
       "      <th>778</th>\n",
       "      <td>1084</td>\n",
       "      <td>165348.0</td>\n",
       "      <td>[]</td>\n",
       "      <td>The patient tolerated his procedure without in...</td>\n",
       "    </tr>\n",
       "    <tr>\n",
       "      <th>857</th>\n",
       "      <td>1183</td>\n",
       "      <td>145559.0</td>\n",
       "      <td>[]</td>\n",
       "      <td>The patient went to the Operating Room on [**2...</td>\n",
       "    </tr>\n",
       "    <tr>\n",
       "      <th>...</th>\n",
       "      <td>...</td>\n",
       "      <td>...</td>\n",
       "      <td>...</td>\n",
       "      <td>...</td>\n",
       "    </tr>\n",
       "    <tr>\n",
       "      <th>35614</th>\n",
       "      <td>98562</td>\n",
       "      <td>122148.0</td>\n",
       "      <td>[]</td>\n",
       "      <td>84 y/o male with history of COPD presenting wi...</td>\n",
       "    </tr>\n",
       "    <tr>\n",
       "      <th>35671</th>\n",
       "      <td>98802</td>\n",
       "      <td>101071.0</td>\n",
       "      <td>[]</td>\n",
       "      <td># Goals of care: The neurosurgery team had a d...</td>\n",
       "    </tr>\n",
       "    <tr>\n",
       "      <th>35749</th>\n",
       "      <td>99183</td>\n",
       "      <td>184631.0</td>\n",
       "      <td>[]</td>\n",
       "      <td>UPPER GASTROINTESTINAL BLEED:  The patient und...</td>\n",
       "    </tr>\n",
       "    <tr>\n",
       "      <th>35901</th>\n",
       "      <td>99822</td>\n",
       "      <td>146997.0</td>\n",
       "      <td>[]</td>\n",
       "      <td>This is a 61 year old male with Stage IV squam...</td>\n",
       "    </tr>\n",
       "    <tr>\n",
       "      <th>35925</th>\n",
       "      <td>99928</td>\n",
       "      <td>104802.0</td>\n",
       "      <td>[]</td>\n",
       "      <td>20 y/o F with DMI presenting with DKA likely s...</td>\n",
       "    </tr>\n",
       "  </tbody>\n",
       "</table>\n",
       "<p>234 rows × 4 columns</p>\n",
       "</div>"
      ],
      "text/plain": [
       "       subject_id   hadm_id notes  \\\n",
       "318           406  174925.0    []   \n",
       "434           573  169615.0    []   \n",
       "624           852  133054.0    []   \n",
       "778          1084  165348.0    []   \n",
       "857          1183  145559.0    []   \n",
       "...           ...       ...   ...   \n",
       "35614       98562  122148.0    []   \n",
       "35671       98802  101071.0    []   \n",
       "35749       99183  184631.0    []   \n",
       "35901       99822  146997.0    []   \n",
       "35925       99928  104802.0    []   \n",
       "\n",
       "                                             target_text  \n",
       "318    PRIMARY REASON FOR HOSPITALIZATION: Patient is...  \n",
       "434    The patient was admitted to the Newborn Nurser...  \n",
       "624    Pt was admitted through same day admission and...  \n",
       "778    The patient tolerated his procedure without in...  \n",
       "857    The patient went to the Operating Room on [**2...  \n",
       "...                                                  ...  \n",
       "35614  84 y/o male with history of COPD presenting wi...  \n",
       "35671  # Goals of care: The neurosurgery team had a d...  \n",
       "35749  UPPER GASTROINTESTINAL BLEED:  The patient und...  \n",
       "35901  This is a 61 year old male with Stage IV squam...  \n",
       "35925  20 y/o F with DMI presenting with DKA likely s...  \n",
       "\n",
       "[234 rows x 4 columns]"
      ]
     },
     "execution_count": 58,
     "metadata": {},
     "output_type": "execute_result"
    }
   ],
   "source": [
    "test = prepped_df[prepped_df.notes.apply(lambda x: len(x))==0]\n",
    "test"
   ]
  },
  {
   "cell_type": "markdown",
   "id": "09ba5ef8-c266-4f75-8517-a4d35bdfaf9d",
   "metadata": {},
   "source": [
    "#### Seems like there are a couple hundred cases where a patient's only note was a discharge summary for their hospital visit.... let's confirm"
   ]
  },
  {
   "cell_type": "markdown",
   "id": "181ca6f1-8042-4cb5-87f6-505b2a6511fe",
   "metadata": {},
   "source": [
    "##### Confirm via inner join with noteevents table"
   ]
  },
  {
   "cell_type": "code",
   "execution_count": 69,
   "id": "b16441ff-b1b6-4a0f-b79e-c438b8d0fe2e",
   "metadata": {},
   "outputs": [
    {
     "data": {
      "text/plain": [
       "234"
      ]
     },
     "execution_count": 69,
     "metadata": {},
     "output_type": "execute_result"
    }
   ],
   "source": [
    "joined_df = pd.merge(noteevents3, test, how = 'inner', on = ['subject_id', 'hadm_id'])\n",
    "joined_df.shape[0]"
   ]
  },
  {
   "cell_type": "markdown",
   "id": "c574a89d-00e4-4f64-b1a3-35a5ac55d8d6",
   "metadata": {},
   "source": [
    "Shape is same!"
   ]
  },
  {
   "cell_type": "markdown",
   "id": "70e0799d-44b4-4062-aa25-e949a762e551",
   "metadata": {},
   "source": [
    "##### Confirm again with iteration... can never be too safe :)"
   ]
  },
  {
   "cell_type": "code",
   "execution_count": 67,
   "id": "6e2451d9-99d7-4203-abb0-f821c20fa446",
   "metadata": {},
   "outputs": [
    {
     "data": {
      "text/plain": [
       "[]"
      ]
     },
     "execution_count": 67,
     "metadata": {},
     "output_type": "execute_result"
    }
   ],
   "source": [
    "subjs = test.subject_id.tolist()\n",
    "hadms = test.hadm_id.tolist()\n",
    "l = list(zip(subjs,hadms))\n",
    "target_ids = []\n",
    "for subj, hadm in l:\n",
    "    tdfs = noteevents3[(noteevents3.subject_id == subj) & (noteevents3.hadm_id==hadm)].shape[0]\n",
    "    if tdfs>1:\n",
    "        print('FOUND ANOMALY')\n",
    "        target_ids.append((subj, hadm, tdfs))\n",
    "target_ids\n",
    "    "
   ]
  },
  {
   "cell_type": "markdown",
   "id": "4c5df30d-fc04-423e-8714-0c750f358d1e",
   "metadata": {},
   "source": [
    "Confirmed!"
   ]
  },
  {
   "cell_type": "markdown",
   "id": "bca02930-8493-4be8-846c-42f8fa2c5138",
   "metadata": {},
   "source": [
    "### Drop those records"
   ]
  },
  {
   "cell_type": "code",
   "execution_count": 70,
   "id": "45bba5b3-100e-48c4-a15e-7bca0acd7d04",
   "metadata": {},
   "outputs": [
    {
     "data": {
      "text/plain": [
       "(35705, 4)"
      ]
     },
     "execution_count": 70,
     "metadata": {},
     "output_type": "execute_result"
    }
   ],
   "source": [
    "prepped_df = prepped_df[prepped_df.notes.apply(lambda x: len(x))>0].reset_index(drop=True)\n",
    "prepped_df.shape"
   ]
  },
  {
   "cell_type": "markdown",
   "id": "396c321b-23a4-4ac1-9ae8-19e91ac3947a",
   "metadata": {},
   "source": [
    "### Train, validation, test split the data"
   ]
  },
  {
   "cell_type": "code",
   "execution_count": 72,
   "id": "d31f90f3-cb2e-4cc2-b3ae-1f700b61f86f",
   "metadata": {},
   "outputs": [],
   "source": [
    "from sklearn.model_selection import train_test_split\n",
    "\n",
    "train_ratio = 0.70\n",
    "validation_ratio = 0.15\n",
    "test_ratio = 0.15\n",
    "\n",
    "random_state = 123\n",
    "\n",
    "train, valtest = train_test_split(prepped_df, test_size=1 - train_ratio, random_state = random_state)\n",
    "validation, test = train_test_split(valtest, test_size=test_ratio/(test_ratio + validation_ratio), random_state = random_state) \n"
   ]
  },
  {
   "cell_type": "code",
   "execution_count": 74,
   "id": "0a7e2cb3-e349-48b1-a50c-4d4fb79f6f56",
   "metadata": {},
   "outputs": [
    {
     "name": "stdout",
     "output_type": "stream",
     "text": [
      "Train Shape: 24993 (69.999% Actual)\n",
      "Validation Shape: 5356 (15.001% Actual)\n",
      "Train Shape: 5356 (15.001% Actual)\n"
     ]
    }
   ],
   "source": [
    "print(f\"Train Shape: {train.shape[0]} ({round(train.shape[0]/prepped_df.shape[0]*100, 3)}% Actual)\")\n",
    "print(f\"Validation Shape: {validation.shape[0]} ({round(validation.shape[0]/prepped_df.shape[0]*100, 3)}% Actual)\")\n",
    "print(f\"Train Shape: {test.shape[0]} ({round(test.shape[0]/prepped_df.shape[0]*100, 3)}% Actual)\")"
   ]
  },
  {
   "cell_type": "markdown",
   "id": "b665aa95-5620-4559-be52-c1ab7d23b91f",
   "metadata": {},
   "source": [
    "### Create a Hugging Face dataset"
   ]
  },
  {
   "cell_type": "code",
   "execution_count": 106,
   "id": "bee02589-0a43-4571-bd4b-c3d5b52cd411",
   "metadata": {},
   "outputs": [],
   "source": [
    "ds_train = Dataset.from_dict(train, split = 'train')\n",
    "ds_validation = Dataset.from_dict(validation, split = 'validation')\n",
    "ds_test = Dataset.from_dict(test, split = 'test')"
   ]
  },
  {
   "cell_type": "code",
   "execution_count": 107,
   "id": "eaf9ca41-01d0-4fc6-aed0-337e8b7d62ec",
   "metadata": {},
   "outputs": [
    {
     "data": {
      "text/plain": [
       "Dataset({\n",
       "    features: ['subject_id', 'hadm_id', 'notes', 'target_text'],\n",
       "    num_rows: 24993\n",
       "})"
      ]
     },
     "execution_count": 107,
     "metadata": {},
     "output_type": "execute_result"
    }
   ],
   "source": [
    "ds_train"
   ]
  },
  {
   "cell_type": "markdown",
   "id": "7000cec0-f23c-4bd0-8e9b-30bea04d2b93",
   "metadata": {},
   "source": [
    "### Push the datasets to the hub"
   ]
  },
  {
   "cell_type": "code",
   "execution_count": 111,
   "id": "0f874f18-00c4-4861-8586-288b3a9e3df5",
   "metadata": {},
   "outputs": [
    {
     "name": "stderr",
     "output_type": "stream",
     "text": [
      "Pushing dataset shards to the dataset hub:   0%|                                      | 0/3 [00:00<?, ?it/s]\n",
      "Creating parquet from Arrow format:   0%|                                             | 0/9 [00:00<?, ?ba/s]\u001b[A\n",
      "Creating parquet from Arrow format:  11%|████                                 | 1/9 [00:00<00:02,  3.10ba/s]\u001b[A\n",
      "Creating parquet from Arrow format:  22%|████████▏                            | 2/9 [00:00<00:02,  3.46ba/s]\u001b[A\n",
      "Creating parquet from Arrow format:  33%|████████████▎                        | 3/9 [00:00<00:01,  3.18ba/s]\u001b[A\n",
      "Creating parquet from Arrow format:  44%|████████████████▍                    | 4/9 [00:01<00:01,  4.22ba/s]\u001b[A\n",
      "Creating parquet from Arrow format:  67%|████████████████████████▋            | 6/9 [00:01<00:00,  6.16ba/s]\u001b[A\n",
      "Creating parquet from Arrow format: 100%|█████████████████████████████████████| 9/9 [00:01<00:00,  6.05ba/s]\u001b[A\n",
      "Pushing dataset shards to the dataset hub:  33%|█████████▋                   | 1/3 [02:33<05:06, 153.24s/it]\n",
      "Creating parquet from Arrow format:   0%|                                             | 0/9 [00:00<?, ?ba/s]\u001b[A\n",
      "Creating parquet from Arrow format:  22%|████████▏                            | 2/9 [00:00<00:00, 10.17ba/s]\u001b[A\n",
      "Creating parquet from Arrow format:  44%|████████████████▍                    | 4/9 [00:00<00:00,  8.76ba/s]\u001b[A\n",
      "Creating parquet from Arrow format:  67%|████████████████████████▋            | 6/9 [00:00<00:00,  9.53ba/s]\u001b[A\n",
      "Creating parquet from Arrow format:  78%|████████████████████████████▊        | 7/9 [00:00<00:00,  9.49ba/s]\u001b[A\n",
      "Creating parquet from Arrow format: 100%|█████████████████████████████████████| 9/9 [00:00<00:00, 10.38ba/s]\u001b[A\n",
      "Pushing dataset shards to the dataset hub:  67%|███████████████████▎         | 2/3 [05:02<02:30, 150.73s/it]\n",
      "Creating parquet from Arrow format:   0%|                                             | 0/9 [00:00<?, ?ba/s]\u001b[A\n",
      "Creating parquet from Arrow format:  11%|████                                 | 1/9 [00:00<00:00,  9.38ba/s]\u001b[A\n",
      "Creating parquet from Arrow format:  33%|████████████▎                        | 3/9 [00:00<00:00, 10.06ba/s]\u001b[A\n",
      "Creating parquet from Arrow format:  44%|████████████████▍                    | 4/9 [00:00<00:00,  9.99ba/s]\u001b[A\n",
      "Creating parquet from Arrow format:  67%|████████████████████████▋            | 6/9 [00:00<00:00, 10.35ba/s]\u001b[A\n",
      "Creating parquet from Arrow format: 100%|█████████████████████████████████████| 9/9 [00:00<00:00, 11.26ba/s]\u001b[A\n",
      "Pushing dataset shards to the dataset hub: 100%|█████████████████████████████| 3/3 [07:27<00:00, 149.26s/it]\n"
     ]
    }
   ],
   "source": [
    "ds_train.push_to_hub(\"mimiciii-hospitalcourse\")"
   ]
  },
  {
   "cell_type": "code",
   "execution_count": 112,
   "id": "d7568ac4-a9d3-4814-8c0e-573f77f7c02e",
   "metadata": {},
   "outputs": [
    {
     "name": "stderr",
     "output_type": "stream",
     "text": [
      "Pushing dataset shards to the dataset hub:   0%|                                      | 0/1 [00:00<?, ?it/s]\n",
      "Creating parquet from Arrow format:   0%|                                             | 0/6 [00:00<?, ?ba/s]\u001b[A\n",
      "Creating parquet from Arrow format:  17%|██████▏                              | 1/6 [00:00<00:00,  8.51ba/s]\u001b[A\n",
      "Creating parquet from Arrow format:  33%|████████████▎                        | 2/6 [00:00<00:00,  8.72ba/s]\u001b[A\n",
      "Creating parquet from Arrow format:  50%|██████████████████▌                  | 3/6 [00:00<00:00,  8.40ba/s]\u001b[A\n",
      "Creating parquet from Arrow format:  67%|████████████████████████▋            | 4/6 [00:00<00:00,  8.50ba/s]\u001b[A\n",
      "Creating parquet from Arrow format: 100%|█████████████████████████████████████| 6/6 [00:00<00:00,  9.81ba/s]\u001b[A\n",
      "Pushing dataset shards to the dataset hub: 100%|█████████████████████████████| 1/1 [01:42<00:00, 102.46s/it]\n",
      "Downloading metadata: 100%|████████████████████████████████████████████████| 770/770 [00:00<00:00, 7.90MB/s]\n"
     ]
    }
   ],
   "source": [
    "ds_validation.push_to_hub(\"mimiciii-hospitalcourse\")"
   ]
  },
  {
   "cell_type": "code",
   "execution_count": 113,
   "id": "2ef59c6c-7b3d-4a81-8dfd-4039f6c28a2b",
   "metadata": {},
   "outputs": [
    {
     "name": "stderr",
     "output_type": "stream",
     "text": [
      "Pushing dataset shards to the dataset hub:   0%|                                      | 0/1 [00:00<?, ?it/s]\n",
      "Creating parquet from Arrow format:   0%|                                             | 0/6 [00:00<?, ?ba/s]\u001b[A\n",
      "Creating parquet from Arrow format:  17%|██████▏                              | 1/6 [00:00<00:00,  8.09ba/s]\u001b[A\n",
      "Creating parquet from Arrow format:  33%|████████████▎                        | 2/6 [00:00<00:00,  8.10ba/s]\u001b[A\n",
      "Creating parquet from Arrow format:  50%|██████████████████▌                  | 3/6 [00:00<00:00,  8.39ba/s]\u001b[A\n",
      "Creating parquet from Arrow format:  67%|████████████████████████▋            | 4/6 [00:00<00:00,  8.04ba/s]\u001b[A\n",
      "Creating parquet from Arrow format: 100%|█████████████████████████████████████| 6/6 [00:00<00:00,  9.12ba/s]\u001b[A\n",
      "Pushing dataset shards to the dataset hub: 100%|██████████████████████████████| 1/1 [01:36<00:00, 96.65s/it]\n",
      "Downloading metadata: 100%|████████████████████████████████████████████████| 889/889 [00:00<00:00, 10.7MB/s]\n"
     ]
    }
   ],
   "source": [
    "ds_test.push_to_hub(\"mimiciii-hospitalcourse\")"
   ]
  },
  {
   "cell_type": "markdown",
   "id": "2fc6424e-b79c-4800-a1ca-6c4089d2b51d",
   "metadata": {},
   "source": [
    "### Confirm we can load the datasets"
   ]
  },
  {
   "cell_type": "code",
   "execution_count": 115,
   "id": "11b273d8-4f80-4356-bc44-02d9521a08d9",
   "metadata": {},
   "outputs": [
    {
     "name": "stderr",
     "output_type": "stream",
     "text": [
      "Downloading readme: 100%|██████████████████████████████████████████████████| 990/990 [00:00<00:00, 11.7MB/s]\n",
      "Downloading data files:   0%|                                                         | 0/3 [00:00<?, ?it/s]\n",
      "Downloading data:   0%|                                                          | 0.00/198M [00:00<?, ?B/s]\u001b[A\n",
      "Downloading data:   2%|█                                                | 4.19M/198M [00:00<00:22, 8.56MB/s]\u001b[A\n",
      "Downloading data:   6%|███                                              | 12.6M/198M [00:00<00:11, 15.9MB/s]\u001b[A\n",
      "Downloading data:  11%|█████▏                                           | 21.0M/198M [00:01<00:08, 20.7MB/s]\u001b[A\n",
      "Downloading data:  15%|███████▎                                         | 29.4M/198M [00:01<00:07, 23.7MB/s]\u001b[A\n",
      "Downloading data:  19%|█████████▎                                       | 37.7M/198M [00:01<00:06, 25.5MB/s]\u001b[A\n",
      "Downloading data:  23%|███████████▍                                     | 46.1M/198M [00:02<00:06, 24.6MB/s]\u001b[A\n",
      "Downloading data:  28%|█████████████▍                                   | 54.5M/198M [00:02<00:05, 25.8MB/s]\u001b[A\n",
      "Downloading data:  32%|███████████████▌                                 | 62.9M/198M [00:02<00:05, 26.7MB/s]\u001b[A\n",
      "Downloading data:  36%|█████████████████▋                               | 71.3M/198M [00:03<00:04, 25.6MB/s]\u001b[A\n",
      "Downloading data:  40%|███████████████████▋                             | 79.7M/198M [00:03<00:04, 24.2MB/s]\u001b[A\n",
      "Downloading data:  44%|█████████████████████▊                           | 88.1M/198M [00:03<00:04, 24.9MB/s]\u001b[A\n",
      "Downloading data:  49%|███████████████████████▊                         | 96.5M/198M [00:04<00:04, 23.8MB/s]\u001b[A\n",
      "Downloading data:  53%|██████████████████████████▍                       | 105M/198M [00:04<00:03, 24.4MB/s]\u001b[A\n",
      "Downloading data:  57%|████████████████████████████▌                     | 113M/198M [00:04<00:03, 25.1MB/s]\u001b[A\n",
      "Downloading data:  61%|██████████████████████████████▋                   | 122M/198M [00:05<00:02, 26.1MB/s]\u001b[A\n",
      "Downloading data:  66%|████████████████████████████████▊                 | 130M/198M [00:05<00:02, 26.7MB/s]\u001b[A\n",
      "Downloading data:  70%|██████████████████████████████████▉               | 138M/198M [00:05<00:02, 24.2MB/s]\u001b[A\n",
      "Downloading data:  74%|█████████████████████████████████████             | 147M/198M [00:06<00:02, 25.2MB/s]\u001b[A\n",
      "Downloading data:  78%|███████████████████████████████████████▏          | 155M/198M [00:06<00:01, 25.2MB/s]\u001b[A\n",
      "Downloading data:  83%|█████████████████████████████████████████▎        | 164M/198M [00:06<00:01, 26.1MB/s]\u001b[A\n",
      "Downloading data:  87%|███████████████████████████████████████████▍      | 172M/198M [00:06<00:00, 27.0MB/s]\u001b[A\n",
      "Downloading data:  91%|█████████████████████████████████████████████▌    | 180M/198M [00:07<00:00, 25.1MB/s]\u001b[A\n",
      "Downloading data:  95%|███████████████████████████████████████████████▋  | 189M/198M [00:07<00:00, 25.8MB/s]\u001b[A\n",
      "Downloading data: 100%|██████████████████████████████████████████████████| 198M/198M [00:07<00:00, 25.0MB/s]\u001b[A\n",
      "\n",
      "Downloading data:   0%|                                                          | 0.00/188M [00:00<?, ?B/s]\u001b[A\n",
      "Downloading data:   2%|█                                                | 4.19M/188M [00:00<00:18, 9.72MB/s]\u001b[A\n",
      "Downloading data:   7%|███▎                                             | 12.6M/188M [00:01<00:13, 12.7MB/s]\u001b[A\n",
      "Downloading data:  11%|█████▍                                           | 21.0M/188M [00:01<00:11, 15.0MB/s]\u001b[A\n",
      "Downloading data:  16%|███████▋                                         | 29.4M/188M [00:01<00:09, 16.1MB/s]\u001b[A\n",
      "Downloading data:  20%|█████████▊                                       | 37.7M/188M [00:02<00:08, 16.9MB/s]\u001b[A\n",
      "Downloading data:  25%|████████████                                     | 46.1M/188M [00:02<00:07, 17.9MB/s]\u001b[A\n",
      "Downloading data:  29%|██████████████▏                                  | 54.5M/188M [00:03<00:06, 20.5MB/s]\u001b[A\n",
      "Downloading data:  34%|████████████████▍                                | 62.9M/188M [00:03<00:05, 21.5MB/s]\u001b[A\n",
      "Downloading data:  38%|██████████████████▋                              | 71.3M/188M [00:03<00:05, 22.5MB/s]\u001b[A\n",
      "Downloading data:  42%|████████████████████▊                            | 79.7M/188M [00:04<00:05, 20.6MB/s]\u001b[A\n",
      "Downloading data:  47%|███████████████████████                          | 88.1M/188M [00:04<00:04, 19.9MB/s]\u001b[A\n",
      "Downloading data:  51%|█████████████████████████▏                       | 96.5M/188M [00:05<00:04, 20.5MB/s]\u001b[A\n",
      "Downloading data:  56%|███████████████████████████▉                      | 105M/188M [00:05<00:04, 20.6MB/s]\u001b[A\n",
      "Downloading data:  60%|██████████████████████████████▏                   | 113M/188M [00:05<00:03, 21.7MB/s]\u001b[A\n",
      "Downloading data:  65%|████████████████████████████████▍                 | 122M/188M [00:06<00:02, 22.4MB/s]\u001b[A\n",
      "Downloading data:  69%|██████████████████████████████████▋               | 130M/188M [00:06<00:02, 22.4MB/s]\u001b[A\n",
      "Downloading data:  74%|████████████████████████████████████▉             | 138M/188M [00:07<00:02, 20.3MB/s]\u001b[A\n",
      "Downloading data:  78%|███████████████████████████████████████▏          | 147M/188M [00:07<00:01, 21.6MB/s]\u001b[A\n",
      "Downloading data:  83%|█████████████████████████████████████████▍        | 155M/188M [00:07<00:01, 21.4MB/s]\u001b[A\n",
      "Downloading data:  87%|███████████████████████████████████████████▌      | 164M/188M [00:08<00:01, 22.9MB/s]\u001b[A\n",
      "Downloading data:  92%|█████████████████████████████████████████████▊    | 172M/188M [00:08<00:00, 22.0MB/s]\u001b[A\n",
      "Downloading data:  96%|████████████████████████████████████████████████  | 180M/188M [00:08<00:00, 23.7MB/s]\u001b[A\n",
      "Downloading data: 100%|██████████████████████████████████████████████████| 188M/188M [00:09<00:00, 20.5MB/s]\u001b[A\n",
      "\n",
      "Downloading data:   0%|                                                          | 0.00/189M [00:00<?, ?B/s]\u001b[A\n",
      "Downloading data:   2%|█                                                | 4.19M/189M [00:00<00:16, 11.4MB/s]\u001b[A\n",
      "Downloading data:   7%|███▎                                             | 12.6M/189M [00:00<00:09, 17.7MB/s]\u001b[A\n",
      "Downloading data:  11%|█████▍                                           | 21.0M/189M [00:01<00:07, 21.8MB/s]\u001b[A\n",
      "Downloading data:  16%|███████▌                                         | 29.4M/189M [00:01<00:06, 23.1MB/s]\u001b[A\n",
      "Downloading data:  20%|█████████▊                                       | 37.7M/189M [00:01<00:06, 23.4MB/s]\u001b[A\n",
      "Downloading data:  24%|███████████▉                                     | 46.1M/189M [00:02<00:06, 23.5MB/s]\u001b[A\n",
      "Downloading data:  29%|██████████████                                   | 54.5M/189M [00:02<00:06, 20.7MB/s]\u001b[A\n",
      "Downloading data:  33%|████████████████▎                                | 62.9M/189M [00:03<00:06, 19.3MB/s]\u001b[A\n",
      "Downloading data:  38%|██████████████████▍                              | 71.3M/189M [00:03<00:06, 18.3MB/s]\u001b[A\n",
      "Downloading data:  42%|████████████████████▋                            | 79.7M/189M [00:03<00:05, 20.0MB/s]\u001b[A\n",
      "Downloading data:  47%|██████████████████████▊                          | 88.1M/189M [00:04<00:05, 20.2MB/s]\u001b[A\n",
      "Downloading data:  51%|████████████████████████▉                        | 96.5M/189M [00:04<00:04, 21.9MB/s]\u001b[A\n",
      "Downloading data:  55%|███████████████████████████▋                      | 105M/189M [00:04<00:03, 23.3MB/s]\u001b[A\n",
      "Downloading data:  60%|█████████████████████████████▉                    | 113M/189M [00:05<00:03, 24.8MB/s]\u001b[A\n",
      "Downloading data:  64%|████████████████████████████████▏                 | 122M/189M [00:05<00:02, 25.0MB/s]\u001b[A\n",
      "Downloading data:  69%|██████████████████████████████████▎               | 130M/189M [00:06<00:02, 22.3MB/s]\u001b[A\n",
      "Downloading data:  73%|████████████████████████████████████▌             | 138M/189M [00:06<00:02, 23.8MB/s]\u001b[A\n",
      "Downloading data:  78%|██████████████████████████████████████▊           | 147M/189M [00:06<00:01, 21.8MB/s]\u001b[A\n",
      "Downloading data:  82%|████████████████████████████████████████▉         | 155M/189M [00:07<00:01, 23.5MB/s]\u001b[A\n",
      "Downloading data:  86%|███████████████████████████████████████████▏      | 164M/189M [00:07<00:01, 24.2MB/s]\u001b[A\n",
      "Downloading data:  91%|█████████████████████████████████████████████▍    | 172M/189M [00:07<00:00, 24.4MB/s]\u001b[A\n",
      "Downloading data:  95%|███████████████████████████████████████████████▋  | 180M/189M [00:08<00:00, 25.5MB/s]\u001b[A\n",
      "Downloading data: 100%|██████████████████████████████████████████████████| 189M/189M [00:08<00:00, 22.7MB/s]\u001b[A\n",
      "Downloading data files:  33%|████████████████▎                                | 1/3 [00:25<00:50, 25.41s/it]\n",
      "Downloading data:   0%|                                                          | 0.00/128M [00:00<?, ?B/s]\u001b[A\n",
      "Downloading data:   3%|█▌                                               | 4.19M/128M [00:00<00:20, 6.09MB/s]\u001b[A\n",
      "Downloading data:  10%|████▊                                            | 12.6M/128M [00:00<00:07, 14.7MB/s]\u001b[A\n",
      "Downloading data:  16%|███████▉                                         | 21.0M/128M [00:01<00:05, 19.6MB/s]\u001b[A\n",
      "Downloading data:  23%|███████████▏                                     | 29.4M/128M [00:01<00:04, 22.8MB/s]\u001b[A\n",
      "Downloading data:  29%|██████████████▍                                  | 37.7M/128M [00:01<00:03, 24.5MB/s]\u001b[A\n",
      "Downloading data:  36%|█████████████████▌                               | 46.1M/128M [00:02<00:03, 23.9MB/s]\u001b[A\n",
      "Downloading data:  42%|████████████████████▊                            | 54.5M/128M [00:02<00:02, 25.7MB/s]\u001b[A\n",
      "Downloading data:  49%|███████████████████████▉                         | 62.9M/128M [00:02<00:02, 26.5MB/s]\u001b[A\n",
      "Downloading data:  55%|███████████████████████████▏                     | 71.3M/128M [00:03<00:02, 26.3MB/s]\u001b[A\n",
      "Downloading data:  62%|██████████████████████████████▍                  | 79.7M/128M [00:03<00:01, 26.3MB/s]\u001b[A\n",
      "Downloading data:  69%|█████████████████████████████████▌               | 88.1M/128M [00:03<00:01, 23.4MB/s]\u001b[A\n",
      "Downloading data:  75%|████████████████████████████████████▊            | 96.5M/128M [00:04<00:01, 23.0MB/s]\u001b[A\n",
      "Downloading data:  82%|████████████████████████████████████████▊         | 105M/128M [00:04<00:00, 24.8MB/s]\u001b[A\n",
      "Downloading data:  88%|████████████████████████████████████████████      | 113M/128M [00:04<00:00, 26.2MB/s]\u001b[A\n",
      "Downloading data:  95%|███████████████████████████████████████████████▎  | 122M/128M [00:05<00:00, 26.9MB/s]\u001b[A\n",
      "Downloading data: 100%|██████████████████████████████████████████████████| 128M/128M [00:05<00:00, 23.7MB/s]\u001b[A\n",
      "Downloading data files:  67%|████████████████████████████████▋                | 2/3 [00:30<00:13, 13.66s/it]\n",
      "Downloading data:   0%|                                                          | 0.00/124M [00:00<?, ?B/s]\u001b[A\n",
      "Downloading data:   3%|█▋                                               | 4.19M/124M [00:00<00:11, 10.2MB/s]\u001b[A\n",
      "Downloading data:  10%|████▉                                            | 12.6M/124M [00:00<00:06, 16.2MB/s]\u001b[A\n",
      "Downloading data:  17%|████████▎                                        | 21.0M/124M [00:01<00:06, 16.2MB/s]\u001b[A\n",
      "Downloading data:  24%|███████████▌                                     | 29.4M/124M [00:01<00:04, 19.6MB/s]\u001b[A\n",
      "Downloading data:  30%|██████████████▉                                  | 37.7M/124M [00:01<00:04, 21.3MB/s]\u001b[A\n",
      "Downloading data:  37%|██████████████████▏                              | 46.1M/124M [00:02<00:04, 16.8MB/s]\u001b[A\n",
      "Downloading data:  44%|█████████████████████▌                           | 54.5M/124M [00:03<00:03, 18.7MB/s]\u001b[A\n",
      "Downloading data:  51%|████████████████████████▊                        | 62.9M/124M [00:03<00:03, 17.0MB/s]\u001b[A\n",
      "Downloading data:  57%|████████████████████████████▏                    | 71.3M/124M [00:03<00:02, 18.7MB/s]\u001b[A\n",
      "Downloading data:  64%|███████████████████████████████▍                 | 79.7M/124M [00:04<00:02, 20.1MB/s]\u001b[A\n",
      "Downloading data:  71%|██████████████████████████████████▊              | 88.1M/124M [00:04<00:01, 19.9MB/s]\u001b[A\n",
      "Downloading data:  78%|██████████████████████████████████████           | 96.5M/124M [00:05<00:01, 20.7MB/s]\u001b[A\n",
      "Downloading data:  85%|██████████████████████████████████████████▎       | 105M/124M [00:05<00:00, 21.6MB/s]\u001b[A\n",
      "Downloading data:  91%|█████████████████████████████████████████████▋    | 113M/124M [00:05<00:00, 19.8MB/s]\u001b[A\n",
      "Downloading data: 100%|██████████████████████████████████████████████████| 124M/124M [00:06<00:00, 19.4MB/s]\u001b[A\n",
      "Downloading data files: 100%|█████████████████████████████████████████████████| 3/3 [00:37<00:00, 12.42s/it]\n",
      "Extracting data files: 100%|████████████████████████████████████████████████| 3/3 [00:00<00:00, 2027.54it/s]\n",
      "Generating train split: 100%|████████████████████████████████| 24993/24993 [00:02<00:00, 8749.12 examples/s]\n",
      "Generating validation split: 100%|█████████████████████████████| 5356/5356 [00:00<00:00, 8893.70 examples/s]\n",
      "Generating test split: 100%|██████████████████████████████████| 5356/5356 [00:00<00:00, 14074.66 examples/s]\n"
     ]
    }
   ],
   "source": [
    "test_load_test_data = load_dataset('dmacres/mimiciii-hospitalcourse', split = 'test')"
   ]
  },
  {
   "cell_type": "code",
   "execution_count": 120,
   "id": "285062e5-56dd-4345-aa03-513fb82c429c",
   "metadata": {},
   "outputs": [
    {
     "data": {
      "text/plain": [
       "Dataset({\n",
       "    features: ['subject_id', 'hadm_id', 'notes', 'target_text'],\n",
       "    num_rows: 5356\n",
       "})"
      ]
     },
     "execution_count": 120,
     "metadata": {},
     "output_type": "execute_result"
    }
   ],
   "source": [
    "test_load_test_data"
   ]
  },
  {
   "cell_type": "code",
   "execution_count": 122,
   "id": "1d258fca-e7cc-44c0-b3ca-5779e36a7e13",
   "metadata": {},
   "outputs": [
    {
     "data": {
      "text/plain": [
       "Dataset({\n",
       "    features: ['subject_id', 'hadm_id', 'notes', 'target_text'],\n",
       "    num_rows: 5356\n",
       "})"
      ]
     },
     "execution_count": 122,
     "metadata": {},
     "output_type": "execute_result"
    }
   ],
   "source": [
    "test_load_val_data = load_dataset('dmacres/mimiciii-hospitalcourse', split = 'validation')\n",
    "test_load_val_data "
   ]
  },
  {
   "cell_type": "code",
   "execution_count": 121,
   "id": "1ff0ef56-96f5-4b18-941f-977dcfadd87c",
   "metadata": {},
   "outputs": [
    {
     "data": {
      "text/plain": [
       "Dataset({\n",
       "    features: ['subject_id', 'hadm_id', 'notes', 'target_text'],\n",
       "    num_rows: 24993\n",
       "})"
      ]
     },
     "execution_count": 121,
     "metadata": {},
     "output_type": "execute_result"
    }
   ],
   "source": [
    "test_load_train_data = load_dataset('dmacres/mimiciii-hospitalcourse', split = 'train')\n",
    "test_load_train_data"
   ]
  }
 ],
 "metadata": {
  "kernelspec": {
   "display_name": "Python 3 (ipykernel)",
   "language": "python",
   "name": "python3"
  },
  "language_info": {
   "codemirror_mode": {
    "name": "ipython",
    "version": 3
   },
   "file_extension": ".py",
   "mimetype": "text/x-python",
   "name": "python",
   "nbconvert_exporter": "python",
   "pygments_lexer": "ipython3",
   "version": "3.11.5"
  }
 },
 "nbformat": 4,
 "nbformat_minor": 5
}
