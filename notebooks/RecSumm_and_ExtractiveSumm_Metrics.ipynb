{
 "cells": [
  {
   "cell_type": "code",
   "execution_count": 1,
   "id": "ce69785e-3687-48ec-8a25-61dfb218e50f",
   "metadata": {},
   "outputs": [
    {
     "name": "stderr",
     "output_type": "stream",
     "text": [
      "/home/dmacres/anaconda3/envs/gendis/lib/python3.11/site-packages/tqdm/auto.py:21: TqdmWarning: IProgress not found. Please update jupyter and ipywidgets. See https://ipywidgets.readthedocs.io/en/stable/user_install.html\n",
      "  from .autonotebook import tqdm as notebook_tqdm\n",
      "[nltk_data] Downloading package punkt to /home/dmacres/nltk_data...\n",
      "[nltk_data]   Package punkt is already up-to-date!\n"
     ]
    }
   ],
   "source": [
    "from datasets import load_dataset, load_metric\n",
    "import evaluate\n",
    "from transformers import AutoModelForSeq2SeqLM, AutoTokenizer\n",
    "import torch\n",
    "import pandas as pd\n",
    "from app.recursive_summary import main_summarizer\n",
    "from tqdm import tqdm"
   ]
  },
  {
   "cell_type": "code",
   "execution_count": 2,
   "id": "e95eb6dc-ecb7-4f2d-9f7d-b50deeab2cb0",
   "metadata": {},
   "outputs": [
    {
     "data": {
      "text/plain": [
       "Dataset({\n",
       "    features: ['subject_id', 'hadm_id', 'target_text', 'extractive_notes_summ', 'n_notes', 'notes'],\n",
       "    num_rows: 5356\n",
       "})"
      ]
     },
     "execution_count": 2,
     "metadata": {},
     "output_type": "execute_result"
    }
   ],
   "source": [
    "dataset_name = 'dmacres/mimiciii-hospitalcourse-meta'\n",
    "mimiciii_dataset = load_dataset(dataset_name, split = 'test')\n",
    "mimiciii_dataset"
   ]
  },
  {
   "cell_type": "code",
   "execution_count": 3,
   "id": "1727a33e-0285-4d55-9260-ffc9ffdd9a68",
   "metadata": {},
   "outputs": [],
   "source": [
    "metric = evaluate.load('rouge')"
   ]
  },
  {
   "cell_type": "code",
   "execution_count": 5,
   "id": "8b37fa26-8132-4c25-b822-4577037f7cc6",
   "metadata": {},
   "outputs": [],
   "source": [
    "def score_summ(metric, gen_sum, target_sum, idx_name):\n",
    "    score = metric.compute(predictions = gen_sum, references = target_sum)\n",
    "    return pd.DataFrame(score, index = [idx_name])"
   ]
  },
  {
   "cell_type": "markdown",
   "id": "e9a2d412-158d-4785-8120-b903011c6a65",
   "metadata": {},
   "source": [
    "## Extractive Sum"
   ]
  },
  {
   "cell_type": "code",
   "execution_count": 6,
   "id": "6d17f79b-d410-4a60-b7ac-9b27a4c37c5e",
   "metadata": {},
   "outputs": [],
   "source": [
    "extractive_summ_rouge_df = score_summ(metric, mimiciii_dataset['extractive_notes_summ'], mimiciii_dataset['target_text'], 'extractive_summ')\n",
    "extractive_summ_rouge_df.to_csv('extractive_summ_rouge_metrics.csv')"
   ]
  }
 ],
 "metadata": {
  "kernelspec": {
   "display_name": "Python 3 (ipykernel)",
   "language": "python",
   "name": "python3"
  },
  "language_info": {
   "codemirror_mode": {
    "name": "ipython",
    "version": 3
   },
   "file_extension": ".py",
   "mimetype": "text/x-python",
   "name": "python",
   "nbconvert_exporter": "python",
   "pygments_lexer": "ipython3",
   "version": "3.11.5"
  }
 },
 "nbformat": 4,
 "nbformat_minor": 5
}
